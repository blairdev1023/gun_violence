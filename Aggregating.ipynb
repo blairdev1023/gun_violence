{
 "cells": [
  {
   "cell_type": "code",
   "execution_count": 3,
   "metadata": {},
   "outputs": [],
   "source": [
    "import pandas as pd\n",
    "import numpy as np\n",
    "\n",
    "pd.set_option('display.max_rows', 100)\n",
    "pd.set_option('display.max_columns', 150)"
   ]
  },
  {
   "cell_type": "markdown",
   "metadata": {},
   "source": [
    "# Load"
   ]
  },
  {
   "cell_type": "code",
   "execution_count": 4,
   "metadata": {},
   "outputs": [],
   "source": [
    "df_main = pd.read_csv('data/gun_violence_clean.csv')\n",
    "df_state = pd.read_csv('data/population_clean.csv')\n",
    "\n",
    "df_main['date'] = pd.to_datetime(df_main['date'])"
   ]
  },
  {
   "cell_type": "code",
   "execution_count": 10,
   "metadata": {
    "scrolled": true
   },
   "outputs": [
    {
     "name": "stdout",
     "output_type": "stream",
     "text": [
      "2014\n",
      "\tKilled: \t12557\t3.94\n",
      "\tInjured:\t23002\t7.22\n",
      "\tTotal:  \t35559\t11.16\n",
      "\n",
      "2015\n",
      "\tKilled: \t13484\t4.20\n",
      "\tInjured:\t26967\t8.40\n",
      "\tTotal:  \t40451\t12.60\n",
      "\n",
      "2016\n",
      "\tKilled: \t15066\t4.66\n",
      "\tInjured:\t30580\t9.46\n",
      "\tTotal:  \t45646\t14.11\n",
      "\n",
      "2017\n",
      "\tKilled: \t15511\t4.76\n",
      "\tInjured:\t30703\t9.43\n",
      "\tTotal:  \t46214\t14.19\n",
      "\n"
     ]
    }
   ],
   "source": [
    "for yr in [2014, 2015, 2016, 2017]:\n",
    "    df_year = df_main[df_main['date'].apply(lambda x: x.year==yr)]\n",
    "    killed = df_year['n_killed'].sum()\n",
    "    injured = df_year['n_injured'].sum()\n",
    "    total = killed + injured\n",
    "    pop = df_state[f'popestimate{yr}'][0]\n",
    "    print(yr)\n",
    "    print(f'\\tKilled: \\t{killed}\\t{killed/pop * 100000:.2f}')\n",
    "    print(f'\\tInjured:\\t{injured}\\t{injured/pop * 100000:.2f}')\n",
    "    print(f'\\tTotal:  \\t{total}\\t{total/pop * 100000:.2f}')\n",
    "    print()"
   ]
  },
  {
   "cell_type": "code",
   "execution_count": null,
   "metadata": {},
   "outputs": [],
   "source": []
  }
 ],
 "metadata": {
  "kernelspec": {
   "display_name": "Python 3",
   "language": "python",
   "name": "python3"
  },
  "language_info": {
   "codemirror_mode": {
    "name": "ipython",
    "version": 3
   },
   "file_extension": ".py",
   "mimetype": "text/x-python",
   "name": "python",
   "nbconvert_exporter": "python",
   "pygments_lexer": "ipython3",
   "version": "3.6.6"
  }
 },
 "nbformat": 4,
 "nbformat_minor": 2
}
